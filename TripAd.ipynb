{
 "cells": [
  {
   "cell_type": "code",
   "execution_count": 2,
   "metadata": {
    "collapsed": false
   },
   "outputs": [],
   "source": [
    "import pandas as pd\n",
    "import simplejson"
   ]
  },
  {
   "cell_type": "code",
   "execution_count": 3,
   "metadata": {
    "collapsed": true
   },
   "outputs": [],
   "source": [
    "from pandas.io.json import json_normalize\n"
   ]
  },
  {
   "cell_type": "code",
   "execution_count": 4,
   "metadata": {
    "collapsed": false
   },
   "outputs": [],
   "source": [
    "with open('/Users/Manoj/Documents/reviews_final/hawaii.json') as jsonfile:\n",
    "    hawaii = simplejson.load(jsonfile)\n",
    "with open('/Users/Manoj/Documents/reviews_final/boston.json') as jsonfile:\n",
    "    boston = simplejson.load(jsonfile)\n",
    "with open('/Users/Manoj/Documents/reviews_final/chicago.json') as jsonfile:\n",
    "    chicago = simplejson.load(jsonfile)\n",
    "with open('/Users/Manoj/Documents/reviews_final/Sd.json') as jsonfile:\n",
    "    diego = simplejson.load(jsonfile)\n",
    "with open('/Users/Manoj/Documents/reviews_final/houston.json') as jsonfile:\n",
    "    houston = simplejson.load(jsonfile)\n",
    "with open('/Users/Manoj/Documents/reviews_final/la.json') as jsonfile:\n",
    "    la = simplejson.load(jsonfile)\n",
    "with open('/Users/Manoj/Documents/reviews_final/lv.json') as jsonfile:\n",
    "    lv = simplejson.load(jsonfile)\n",
    "with open('/Users/Manoj/Documents/reviews_final/miami.json') as jsonfile:\n",
    "    miami = simplejson.load(jsonfile)\n",
    "with open('/Users/Manoj/Documents/reviews_final/nyc.json') as jsonfile:\n",
    "    nyc = simplejson.load(jsonfile)\n",
    "with open('/Users/Manoj/Documents/reviews_final/orlando.json') as jsonfile:\n",
    "    orlando = simplejson.load(jsonfile)\n",
    "with open('/Users/Manoj/Documents/reviews_final/phoenix.json') as jsonfile:\n",
    "    phoenix = simplejson.load(jsonfile)\n",
    "with open('/Users/Manoj/Documents/reviews_final/seattle.json') as jsonfile:\n",
    "    seattle = simplejson.load(jsonfile)\n",
    "\n",
    "with open('/Users/Manoj/Documents/reviews_final/Sf.json') as jsonfile:\n",
    "    sf = simplejson.load(jsonfile)\n",
    "\n",
    "with open('/Users/Manoj/Documents/reviews_final/wash.json') as jsonfile:\n",
    "    wash = simplejson.load(jsonfile)\n"
   ]
  },
  {
   "cell_type": "code",
   "execution_count": 5,
   "metadata": {
    "collapsed": false
   },
   "outputs": [],
   "source": [
    "hawaii = pd.DataFrame(hawaii)\n",
    "nyc = pd.DataFrame(nyc)\n",
    "\n",
    "\n",
    "boston = pd.DataFrame(boston)\n",
    "chicago = pd.DataFrame(chicago)\n",
    "diego = pd.DataFrame(diego)\n",
    "houston = pd.DataFrame(houston)\n",
    "la = pd.DataFrame(la)\n",
    "lv = pd.DataFrame(lv)\n",
    "miami = pd.DataFrame(miami)\n",
    "orlando = pd.DataFrame(orlando)\n",
    "phoenix = pd.DataFrame(phoenix)\n",
    "seattle = pd.DataFrame(seattle)\n",
    "sf = pd.DataFrame(sf)\n",
    "wash = pd.DataFrame(wash)\n",
    "\n"
   ]
  },
  {
   "cell_type": "code",
   "execution_count": 6,
   "metadata": {
    "collapsed": false
   },
   "outputs": [],
   "source": [
    "data = pd.concat([hawaii,nyc,boston,chicago,diego,houston,la,lv,miami,orlando,phoenix,seattle,sf,wash],axis = 0)"
   ]
  },
  {
   "cell_type": "code",
   "execution_count": 7,
   "metadata": {
    "collapsed": false
   },
   "outputs": [
    {
     "data": {
      "text/plain": [
       "3307"
      ]
     },
     "execution_count": 7,
     "metadata": {},
     "output_type": "execute_result"
    }
   ],
   "source": [
    "len(data)"
   ]
  },
  {
   "cell_type": "code",
   "execution_count": 9,
   "metadata": {
    "collapsed": false
   },
   "outputs": [
    {
     "data": {
      "text/html": [
       "<div>\n",
       "<table border=\"1\" class=\"dataframe\">\n",
       "  <thead>\n",
       "    <tr style=\"text-align: right;\">\n",
       "      <th></th>\n",
       "      <th>highlights</th>\n",
       "      <th>hotelId</th>\n",
       "      <th>name</th>\n",
       "      <th>numReviews</th>\n",
       "      <th>rating</th>\n",
       "      <th>reviewinfo</th>\n",
       "      <th>services</th>\n",
       "      <th>url</th>\n",
       "    </tr>\n",
       "  </thead>\n",
       "  <tbody>\n",
       "    <tr>\n",
       "      <th>0</th>\n",
       "      <td>Free Parking\\n\\n\\nFree High Speed Internet ( W...</td>\n",
       "      <td>property_595533</td>\n",
       "      <td>Inn at Schofield Barracks</td>\n",
       "      <td>47</td>\n",
       "      <td>2.5</td>\n",
       "      <td>[{u'userName': u'Stephan B', u'helpfulVotes': ...</td>\n",
       "      <td>Free Parking \\nAirport Transportation</td>\n",
       "      <td>/Hotel_Review-g60982-d595533-Reviews-Inn_at_Sc...</td>\n",
       "    </tr>\n",
       "    <tr>\n",
       "      <th>1</th>\n",
       "      <td>Pool\\n\\n\\nFitness Center with Gym / Workout Ro...</td>\n",
       "      <td>property_1484551</td>\n",
       "      <td>Trump International Hotel Waikiki</td>\n",
       "      <td>2380</td>\n",
       "      <td>4.5</td>\n",
       "      <td>[{u'userName': u'Malee F', u'helpfulVotes': No...</td>\n",
       "      <td>Room Service \\nChildren Activities (Kid / Fami...</td>\n",
       "      <td>/Hotel_Review-g60982-d1484551-Reviews-Trump_In...</td>\n",
       "    </tr>\n",
       "    <tr>\n",
       "      <th>2</th>\n",
       "      <td>Pool\\n\\n\\nFree Parking\\n\\n\\nRestaurant</td>\n",
       "      <td>property_120756</td>\n",
       "      <td>Breakers Hotel</td>\n",
       "      <td>212</td>\n",
       "      <td>4.0</td>\n",
       "      <td>[{u'userName': u'janlorraine', u'helpfulVotes'...</td>\n",
       "      <td>Free Parking \\nChildren Activities (Kid / Fami...</td>\n",
       "      <td>/Hotel_Review-g60982-d120756-Reviews-Breakers_...</td>\n",
       "    </tr>\n",
       "    <tr>\n",
       "      <th>3</th>\n",
       "      <td>Pool\\n\\n\\nRestaurant\\n\\n\\nFitness Center with ...</td>\n",
       "      <td>property_87017</td>\n",
       "      <td>Airport Honolulu Hotel</td>\n",
       "      <td>886</td>\n",
       "      <td>3.5</td>\n",
       "      <td>[{u'userName': u'sam H', u'helpfulVotes': u'1'...</td>\n",
       "      <td>Shuttle Bus Service \\nAirport Transportation \\...</td>\n",
       "      <td>/Hotel_Review-g60982-d87017-Reviews-Airport_Ho...</td>\n",
       "    </tr>\n",
       "    <tr>\n",
       "      <th>4</th>\n",
       "      <td>Free Internet\\n\\n\\nRestaurant\\n\\n\\nBar/Lounge\\...</td>\n",
       "      <td>property_86969</td>\n",
       "      <td>Waikiki Wave</td>\n",
       "      <td>2500</td>\n",
       "      <td>4.0</td>\n",
       "      <td>[{u'userName': u'Style M', u'helpfulVotes': u'...</td>\n",
       "      <td>Shuttle Bus Service \\nDry Cleaning \\nMeeting R...</td>\n",
       "      <td>/Hotel_Review-g60982-d86969-Reviews-Waikiki_Wa...</td>\n",
       "    </tr>\n",
       "  </tbody>\n",
       "</table>\n",
       "</div>"
      ],
      "text/plain": [
       "                                          highlights           hotelId  \\\n",
       "0  Free Parking\\n\\n\\nFree High Speed Internet ( W...   property_595533   \n",
       "1  Pool\\n\\n\\nFitness Center with Gym / Workout Ro...  property_1484551   \n",
       "2             Pool\\n\\n\\nFree Parking\\n\\n\\nRestaurant   property_120756   \n",
       "3  Pool\\n\\n\\nRestaurant\\n\\n\\nFitness Center with ...    property_87017   \n",
       "4  Free Internet\\n\\n\\nRestaurant\\n\\n\\nBar/Lounge\\...    property_86969   \n",
       "\n",
       "                                name numReviews rating  \\\n",
       "0          Inn at Schofield Barracks         47    2.5   \n",
       "1  Trump International Hotel Waikiki       2380    4.5   \n",
       "2                     Breakers Hotel        212    4.0   \n",
       "3             Airport Honolulu Hotel        886    3.5   \n",
       "4                       Waikiki Wave       2500    4.0   \n",
       "\n",
       "                                          reviewinfo  \\\n",
       "0  [{u'userName': u'Stephan B', u'helpfulVotes': ...   \n",
       "1  [{u'userName': u'Malee F', u'helpfulVotes': No...   \n",
       "2  [{u'userName': u'janlorraine', u'helpfulVotes'...   \n",
       "3  [{u'userName': u'sam H', u'helpfulVotes': u'1'...   \n",
       "4  [{u'userName': u'Style M', u'helpfulVotes': u'...   \n",
       "\n",
       "                                            services  \\\n",
       "0              Free Parking \\nAirport Transportation   \n",
       "1  Room Service \\nChildren Activities (Kid / Fami...   \n",
       "2  Free Parking \\nChildren Activities (Kid / Fami...   \n",
       "3  Shuttle Bus Service \\nAirport Transportation \\...   \n",
       "4  Shuttle Bus Service \\nDry Cleaning \\nMeeting R...   \n",
       "\n",
       "                                                 url  \n",
       "0  /Hotel_Review-g60982-d595533-Reviews-Inn_at_Sc...  \n",
       "1  /Hotel_Review-g60982-d1484551-Reviews-Trump_In...  \n",
       "2  /Hotel_Review-g60982-d120756-Reviews-Breakers_...  \n",
       "3  /Hotel_Review-g60982-d87017-Reviews-Airport_Ho...  \n",
       "4  /Hotel_Review-g60982-d86969-Reviews-Waikiki_Wa...  "
      ]
     },
     "execution_count": 9,
     "metadata": {},
     "output_type": "execute_result"
    }
   ],
   "source": [
    "data.head()"
   ]
  },
  {
   "cell_type": "code",
   "execution_count": 8,
   "metadata": {
    "collapsed": false
   },
   "outputs": [],
   "source": [
    "data.reset_index(inplace=True)"
   ]
  },
  {
   "cell_type": "code",
   "execution_count": 10,
   "metadata": {
    "collapsed": false
   },
   "outputs": [],
   "source": [
    "reviewText = pd.DataFrame(columns = [\"hotelId\",\"hotelName\",\"reviewText\"],index= range(len(data)))"
   ]
  },
  {
   "cell_type": "markdown",
   "metadata": {},
   "source": []
  },
  {
   "cell_type": "code",
   "execution_count": 11,
   "metadata": {
    "collapsed": false
   },
   "outputs": [],
   "source": [
    "for i in range(len(data)):\n",
    "    text = \"\"\n",
    "    services = \"\"\n",
    "    reviewText.ix[i,\"hotelId\"] = data.ix[i,\"hotelId\"]\n",
    "    reviewText.ix[i,\"hotelName\"] = data.ix[i,\"name\"]\n",
    "    #print(data.ix[i,\"reviewinfo\"])\n",
    "    if len(data.ix[i,\"reviewinfo\"]) > 0:\n",
    "        try:\n",
    "            temp_review = [j[\"reviewText\"] if j[\"reviewText\"] is not None else \"\" for j in list(data.ix[i,\"reviewinfo\"]) ]\n",
    "            text = \" \".join(temp_review)\n",
    "        except Exception,e:\n",
    "            print (i,e)\n",
    "            print(len([j[\"reviewText\"] for j in list(data.ix[i,\"reviewinfo\"])]))\n",
    "            \n",
    "            break\n",
    "    if data.ix[i,\"services\"]:\n",
    "        services = \" \".join(data.ix[i,\"services\"].split(\" \\n\"))\n",
    "    reviewText.ix[i,\"reviewText\"] = text+services\n",
    "\n",
    "    "
   ]
  },
  {
   "cell_type": "code",
   "execution_count": 63,
   "metadata": {
    "collapsed": false
   },
   "outputs": [
    {
     "data": {
      "text/plain": [
       "'Free Parking \\nAirport Transportation'"
      ]
     },
     "execution_count": 63,
     "metadata": {},
     "output_type": "execute_result"
    }
   ],
   "source": [
    "data.ix[0,\"services\"]"
   ]
  },
  {
   "cell_type": "code",
   "execution_count": 73,
   "metadata": {
    "collapsed": false
   },
   "outputs": [
    {
     "data": {
      "text/plain": [
       "['A smaller style hotel with only 3 stories but tucked back off the street, so nice and quiet.',\n",
       " \"The staff were amazing and helpful and helped me find a room during the middle of RIMPAC. However, on arrival, we were scared to death. It was incredibly over priced for what we got. It isnt in the friendliest of locations, thin walls, very outdated. you need to carry your suitcases up stairs. our door opened up onto a parking lot if it werent for the railing and small shrubs between, so there was a lot of noise from that. we had to turn off the aircon as it was soooooooo loud we couldn't even sleep. Although the staff were lovely, I wouldn't recommend this place to anyone. My advice, find somewhere else unless they update the rooms and make them a little more friendly.\",\n",
       " 'A little sketchy. Never had a place to park. Had to drive around for 20 minutes to park. There lot had maybe 10 spots and adjacent lot next to it had 12 spots. Room was average and no wifi. Must have been 20 people in the small lobby trying to get some wifi. If you go outside avoid the area directly outside the hotel. Good thing your only 2.5 blocks from WWaikki.',\n",
       " 'Return visitor .Happy to stay here again.It is quiet .Cozy and clean .Limited parking so get a space because it is very convenient.Just a short walk to wonderful downtown HONOLULU. Very relaxing to end your night in the jacuzzi with a glass of wine.Right BRANDON ?It is quiet and calm at night. I always got a good nights sleep .There are a lot of places to eat nearby. I really enjoyed the just opened HOLOHOLO MARKET AND CAFE. Excellent variety of food with great coffee. Stay here.Relax .You may want to come back again. I will be back on DECEMBER 23RD for another memorable CHRISTMAS and NEW YEARS. My thanks to my OHANA at the WHITE SANDS . I miss you all .See you soon !!!',\n",
       " 'I had two nights booked and as soon as I rolled up on the property, I knew it would only be one night. The place has very limited parking that they charge $25 for. There are no elevators so if you have bags, make sure they are light. There is no wifi but I was able to tether my Tmobile LTE with my computer with no problem.',\n",
       " \"I picked this hotel based on 3 important factors: Kitchen, Price, and Location. All matched my requirements. So let's begin with #1 location: It is well situated right around the corner from the canal in a safe neighborhood - far enough from the busy Waikiki main streets, but very close walking distance to it and the ocean. There's a lot of restaurants and markets within minutes of walking. #2 Price: I paid way less than other hotels in the area (I shopped) for the quality of the hotel - it's not a modern or a luxury place by any means. Great news! No bugs were found. It definitely needs an upgrade, but the room, bed sheets, towels were clean. There was NO weird smell upon entering as some older hotels do! #3 Kitchen: Although it was a super small area, it did have some pots & pans, plates, cups, glasses and utensils available. The refrigerator was a typical mid size one, enough to fit two days worth of food for 3 people - I cooked breakfast everyday. The sink did not have a garbage disposer and they only provided a cleaning rag not a scrubber with dish soap with limited counter space to dry your dishes in the dish rack.\",\n",
       " 'We booked one night in a \"One bedroom with kitchen\" room for a layover in Honolulu based on recommendations for a reasonable hotel nearish to the airport. When we checked in we were disappointed with the condition of the room, but we were in a hurry to drop off our bags and go, and we figured it would be fine for one night. By nine o\\'clock that evening, I was checking Priceline and very seriously considering paying for another hotel.',\n",
       " 'Summary:',\n",
       " 'Great location, great value for the price, and an overall great place to stay. If you are a luxury traveler looking for a 5-star resort experience, this is NOT the place for you. However, if you are like me and are looking for affordable, clean, safe,and superbly located lodging with a SUPER friendly staff, this is a great option in Waikiki (and only 10-15 minutes from the beach).',\n",
       " 'Excellent location, walking distance to many attractions including Waikiki beach and on bus routes to the others. The staff are cheerful and friendly and very helpful. The rooms are clean and ours included a kitchenette. The grounds are beautiful with a pool, hot tub. Barbeque and lovely gardens which keep the city noise at bay. Very reasonable for its location in Waikiki.',\n",
       " 'Great staff, friendly and love the grounds. Rooms could us upgrades sorta outdated. Not enough parking and wifi is a must. Will tell friend about this oasis in the middle of busy Waikiki. Had a great time!',\n",
       " None,\n",
       " \"We were very impressed with the excellent service provided by the staff. The room was very clean and we loved the intimate pool and patio area. The kitchenette had everything we needed and we loved that we didn't have to eat out for every meal. Also, the location is convenient to the beach, downtown, Diamond Head & the Aquarium. I highly recommend White Sands, especially to those with children. We will definitely stay there again!\",\n",
       " \"First of all, the location of this hotel isn't quite your ideal location. This hotel does not have any elevators so pack light, hauling luggage up and eventually down three flights of stairs ain't fun. I stayed at this location for 5-day and 4-nights. I expected a good 2-Star hotel based on the online sales claims but its far from it. As I entered the room I immediately notice the stains on the bedding. The carpet was dirty and the air conditioning unit looks as if it hasn't been cleaned in months. The lanai (patio) furniture was dirty with bird poo. The pool and hot tub was far from being clean. WiFi works in the lobby and parking is $25.00 a day and they cant commit to your stall.\",\n",
       " 'Location was excellent. Staff excellent. Nothing was too much trouble for them. Very friendly and helpful. Kitchenette was very helpful. Large bathroom. Extremely clean. I didnt mind being on the top floor (3rd floor) with no lift (keeps me fit). Swimming pool very clean and plenty of pool chairs and tables. Comfortable bed. Will stay here again.',\n",
       " 'Had a nice weekend at the White Sands Hotel! Nice room and Pool and Great Staff! Will definitely stay here again!!!!!!!!!!!!!!!!!!!!!!! We were on a staycation and went to a concert! The hotel is a small tree story building and very relaxing',\n",
       " 'It is very nice hotel and the staff is helpful, I arrived Honolulu in early morning and very tired due to time difference, as the check in time is 3:00 pm, I worried what I should do in the hours. The staff helped me and allowed early check in without extra charges. The location is goodm there are many convenience stores (ABC) and easy to get resturants too. With the good price I recommend this hotel',\n",
       " 'The white sands was perfect for budget accommodation, two blocks from all the action of the Main Street of Waikiki and three from the beach. The front desk staff were always courteous and helped us out with local information and tips. The rooms and bathroom was always clean and had a small kitchenette with a fridge for chilling drinks. The balconies mostly overlook the pool except for a few that face the street.',\n",
       " 'I really liked the White Sands Hotel.',\n",
       " 'I stayed in a suite with kitchenette, queen bed and private lanai that was on the third floor. The room was extremely clean and prepared for our arrival and spacious enough to hold a queen sized bed, dresser and kitchen table without bumping into each other. The outdoor pool is surrounded by the hotel and is very private. The locale is ideal for anyone that plans on staying in Waikiki for a big portion of their vacation/business trip and allows for easy walking distances to everything you would want to visit. Christieann (the lovely wahine!) greets all the residents with a smile and much aloha and makes the stay pleasurable! She helped me out with recommendations for local spots and dining since it has been a while since I last visited. I highly recommend this hotel to those working with a budget and want to be close to all there is to offer in Waikiki.',\n",
       " \"My husband and I spent 10 nights at the white sands and we couldn't have been happier. Rooms may need a little update but we're very clean and spacious. Staff were fantastic, especially Brandon and Christie ann as nothing was too much trouble. The pool area was very clean and relaxing and loved that Waikiki beach was only a 8 min walk away but plenty of restaurants and bars near by. I would have no hesitation to stay at the White sands again or refer to others who are happy with a self contained hotel in a great location!\",\n",
       " 'you think you\\'ve traveled back to a cool fifties hotel when you enter. the hotel has great ambiance and is a great budget boutique hotel. it needs a little updating, but mostly everything works. i like the fact that there is a two burner stove, frig, and microwave. they also provide pots and pans and plates and glasses and silverware. i especially liked the fact that i could buy some chicken and use their bbque to cook it. the front desk staff are especially customer service oriented. kudos to christianmas (probably spelled wrong) and brandon. also there is a dvd now kiosk that you can \"rent\" movies for free. the pool area is cool.',\n",
       " 'Nothing but hood things to say.',\n",
       " 'The one desk agent was the best, she invited me to join her singing group, and gave me tips and advice for the island. However the room was so hot and the AC did little to nothing. Nothing was done and it made it near impossible to sleep at night. Traffic was loud and watch out for the tweekers, seems to be an issue on the island.... other than that i would recommend visiting the island but finding a different place to stay, sorry',\n",
       " \"This hotel is in a great location - a few minutes' walk away from the beach but not on the main road so not much traffic. Close to bus stops if you're heading out of Waikiki for Pearl Harbour or North Shore or wherever.\",\n",
       " \"We stayed here when we got married and honeymooned. The location is central to everything and very close to the beach. The parking is a bit tight but luckily we had a small car. The staff were great. We requested a room change the night we arrived as there was a crying baby in the next room and we couldn't sleep. The staff moved us to a quieter part of the property immediately at no extra charge.\",\n",
       " 'This hotel has location going for it. Just a few blocks to the beach. It is surrounded by all types of restaurants, shops and souvenir shops. The center courtyard pool area is very nice. Everything was clean. It is far enough off Kuhio you do not hear much traffic or construction noise.',\n",
       " 'Didn\\'t want the \"resort\" scene. Wanted to get out and do our thing. Great for that.',\n",
       " 'Had stayed here 10 years ago when it was under a different ownership.... Sad to see what has happened.... Part of the problem is that the whole area of kuhio is undergoing a remake and is in transition... Just needed one night before an early morning flight.... Kind of sketchy early in the am on the street there, they have security though to help combat this ...... Room I had was a mixed bag... Newer bed, a/c, tv... Furniture/kitchen bathroom should be condemned, including the patio... Staff was friendly which was nice.... Grounds still looked o.k..... Hopefully that area will comeback, and then the owners may put some money into it.... Until then, nah.....',\n",
       " 'Stayed at the White Sands Hotel in Waikiki with the family including our 20 month granddaughter.',\n",
       " 'For a To me - From me for my birthday I stayed at this hotel and in Waikiki for 4 days! Nice location and quaint oasis in the middle of the city! 3rd floor gave me exercise with only stairs, and kitchenette nice to keep fruit and drinks for beach cold!',\n",
       " 'This hotel is very accommodating the people at the desk extra friendly they have a box where you can rent movies to watch in your room free of charge they do have Wi-Fi however it is only available in the lobby the swimming pool is very clean and the atmosphere is very nice I definitely recommend this place',\n",
       " 'I find it hard to say anything negative about this hotel at the price and location. Our pool view room with kitchenette was sizeable with a balcony. The kitchen was adequately equipped to self cater although irritating to English people they provide a coffee maker but no kettle so tea water has to be microwaved (common in the USA). Theres a safe and good storage space. I didnt feel it was dated; it was clean and bright, call it homely maybe.',\n",
       " 'I have been going to Hawaii since 1964 and stayed in all types of hotels. I do not like any of the high rise Waikiki hotels, just too many people, too much time getting to an from your room. The White Sands is clean,extremely reasonable, outstanding location, quick in quick out which is so important. Front desk is incredibly friendly, helpful and has your back. I will always stay there no matter where I have business on Oahu.',\n",
       " \"The positives: the location, it's close to everything. The staff did seem friendly but we did our best to stay out of the hotel because of the...\",\n",
       " \"I've staying at White Sands Hotel in Waikiki, while working a block away, for the past 3 weeks. Myself and 5 other coworkers have been enjoying our stay here immensely. The staff are very helpful and kind, especially Christieann. The Hawaiian word of the week is a great touch.\",\n",
       " \"I read the reviews but since we didn't have a car we figured we would try it. The place is nice, good location. We got a shuttle from the airport, it wasn't from the hotel but it took us there. You have to ask the guys at the airport with the shuttles & some take people all over the place in Waikiki. Wifi was only in the lobby but we have noticed that's common unless you are staying at a major brand hotel over here. Nice little bar behind the hotel, you can go in & out the back gate. We would def stay here again.\",\n",
       " 'I did not expect a 5 star hotel, since I was not paying for one. My standard room had a king bed, mattress was not bad. The second floor lanai overlooked the pool. I had a microwave, frig, coffee maker. They do have rooms available with full kitchens. Free newspaper, the internet was not very strong in my room, I usually went to the pool. The place could have cleaner, my only complaint. Location is very good for everything, one block to The Bus. The surcharge, unfortunately has caught on every where, Las Vegas, is even worse!!!',\n",
       " 'I found this hotel through reviews on Tripadvisor. The price was right, location excellent, reviews good.',\n",
       " \"Looked good online but was quickly disappointed upon arrival. There is about 8 parking spots in front of the hotel which ISN'T FREE!! If you can find a spot (good luck) it costs $20 to park there! We had to park across the street where it costs $35!! On top of that there is an extra $11 cleaning fee for the room so plan on an extra $50 you weren't planning to spend. Aside from that the hotel is old and kind of, well... gross. There were a bunch of questionable people hanging around on the streets outside and a drunk guy standing by the main entrance with beer in a paper bag. I wasn't aware honolulu had a ghetto area but it does. My recommendation; spend your money somewhere else. In fact, don't come to this area at all, stay on the other side of the island or on another island all together\",\n",
       " 'They do not tell you parking is $30/night and their convenience fee is $10.75/night applied at the hotel - it is not included in any fare/taxes/fees that you pay through the booking site. The room is mediocre but nothing so bad as to make us leave. The area is very busy and crowded, looking forward to getting out of Honolulu - just a 15 min drive north puts you away from people and in the beautiful palis.',\n",
       " 'Stayed here last October..A lot of great places to eat nearby and a great pool . Great view of the mountains and only blocks from the beach . A market with anything you need nearby.Old school Hawaii in Downton Waikiki .... LOVED IT and just saw you on Hawaii Five O ...They know where the Ohana is. We look forward to staying our next time back.',\n",
       " 'Frequent guest. Stayed from dec 23 until jan 5.Nice.Clean Quiet.Good ,friendly staff.They always remember me and make me feel like OHANA,A pleasure to talk with them on a daily basis.I will be back here by JULY 4.Do yourself a favor and stay here.Time well spent.Thanks from STERLING LAHACH in LAS VEGAS.',\n",
       " 'The plus points were:',\n",
       " 'So, you think this hotel is a great deal? Here are the facts:',\n",
       " 'We chose White Sands as we didnt want to pay the big money for a hotel in Waikiki, we are not into resort style hotels only require clean room and a comfortable bed. White Sands did meet this criteria, yes it has seen better days but the location is very convenient for Waikiki, the bus stop is located around the corner and not far from food pantry. We had a room facing the pool with a small kitchenette which was useful for making our own coffee and a light breakfast each day.',\n",
       " \"The location is good, the bus route is on the next corner and the main strip is a few minutes walk. The rooms are tired, but the friendly staff keep them clean and everything works. Free wifi in the lobby, but not in the rooms is a minus. Kitchenette is a plus. Beds are comfortable without being luxurious. If you're looking for luxury, look elsewhere.. If you want location and value for money, this is it.\",\n",
       " 'White Sands is an older property, very well-maintained. Rooms include kitchenette. About half the rooms face the pool/patio/courtyard, which is nicely landscaped with plants and waterfall. Waikiki beaches are a short walk, and many stores are nearby. The staff are especially pleasant and helpful. Not a luxurious place by any means, but very nice. The beds were particularly comfortable. Free wifi around the lobby and pool; nearby rooms also pick up the wifi.',\n",
       " 'We ended our first trip to the islands with our stay at the White Sands hotel. It was just what we needed! We were NOT looking for high-end lodging just a clean, quiet place to sleep, close-ish to the airport but within walking distance of downtown (parking downtown is OUTRAGEOUS! ). The room had plenty of space for the 2 of us at a reasonable rate! As a bonus, the staff were friendly and accommodating to our questions. I would recommend this hotel for anyone who goes on vacation to see the sights NOT sit in a hotel!!',\n",
       " \"Great courtyard but all but a couple of rooms are dumps. I have stayed in room 250 and 350 and they were very good but the other side of hotel stinks and I can't believe they could rent for over $50 a night. They had said we would have room 250 and gave us the one in the very front which was a disaster. We paid a little more and went to The Imperial Hotel and it was 100% nicer.\",\n",
       " 'We traveled to Hawaii on 18th October 2915 to attend a wedding so we looked and found white sands hotel.',\n",
       " \"We spent 3 nights at the White Sands Hotel and found it to be more than we expected. We booked it on-line based only on description and photographs. The price was good compared to all the high rise hotels in downtown Honolulu. White Sands has obviously been there a long time, but is well maintained and exceptionally clean. Some of the room decor is quite dated and there are a few minor maintenance issues like chipped paint and worn carpets. Overall, though, we felt it was a good value. The pool was cleaned religiously each morning and the staff was all very helpful and friendly. The only reason we don't rate the hotel as overall excellent is due to the age of the facility and the few maintenance issues we described above.\",\n",
       " \"This is an older property , probably from the 1960's, that is only a few blocks from Waikiki. Rooms are spacious and have a kitchenette with refrigerator and microwave. My room had an extremely comfortable king size bed. Property has no elevator.\",\n",
       " \"We booked using a third party company. The hotel was rated 2 1/2 stars. It really doesn't deserve that high of a rating. This is your basic motel and probably the most affordable lodging in Waikiki. The grounds are nice, the staff is friendly but the rooms need some updating. They have full bathrooms and kitchens which make it more like a condo, but the property is an older motel. The neighborhood is fine during the day but I didn't feel completely at ease walking around at night. I would have preferred to pay a little bit more money and stay at a bigger chain hotel.\",\n",
       " 'There is no elevator so walking up and down stairs after a long day was not my idea of fun. There is limited parking so we ended up parking a block and a half away which was ok except if it was raining. The staff was always helpful and accommodating. It reminded me of an apartment building that they now turned into a hotel but the room was clean!! There was a small fridge, micro and hot plates so that was a big help warming up leftovers for the late night hungry teens. The walls were a bit thin. we could hear our semi loud \"neighbors\" talking through the bathroom walls, so we closed the bathroom doors lol Other than that the hotel is in a good location. Late evening shady characters hanging around the bar but nice to see security when we entered the hotel...ohhhh no wifi except in lobby...kinda funny i thought lol',\n",
       " 'There is no elevator at this hotel so do not bring a lot of suitcases or you will be tired out going up and down the stairs. There is a hotel in front of this property so the only time there is sun shine is in the morning.',\n",
       " 'Friendly & helpful staff.',\n",
       " 'The Hotel was a Little Dated but very clean, the staff were very helpful and the',\n",
       " \"No bugs. Comfortable bed. Clean towels and bedding. But that's where it ends. The carpet was filthy-had to\",\n",
       " 'Motel style accommodation, located 3 blocks from Honolulus main Kalakaua Ave. Tired and in need of having some time and money spent freshening it up. Arrived early morning, check-in not until 3pm, however bags held and were able to change and wander around until then. Rooms basic, clean, but the air conditioning noisy and wifi only available at reception-pool area. Would have been better with one of the rooms facing the internal pool area that have terraces. Staff most helpful.',\n",
       " 'CHECK-IN:',\n",
       " 'Although the rooms were all that nice I did have a nice experience here thanks to the wonderful hostess Kathy who was really nice to let me stay even though I had lost my I.D. and I always had a warm welcome Christieann upon leaving and coming back. If I ever do come back I know I will come back to the White sands hotel.',\n",
       " 'When was asked to put second card down for $100 I found i had very little left on my card as they took what was owing on room which we were told we could pay at end of stay. We were using another card to pay for room which they already had the no. when we booked so they had no permission to do this.',\n",
       " 'White Sands Hotel was an an unexpected fantastic experience, we stayed with my husband for 14 days, none was less good than the other.',\n",
       " 'I loved my stay at the White Sands. Charming low rise hotel smack bang in the centre of Waikiki. A peaceful oasis to rest from the bustling streets of Waikiki. Super friendly staff with helpful local knowledge. It felt like staying on an outer island with a tranquil atmosphere but you were right amongst everything Waikiki has to offer. Clean rooms and grounds make for a relaxing and enjoyable stay. Hope to get back in July 2016 for another great visit.',\n",
       " \"After a 9 hour flight we couldn't wait to get to our room. We were on the second floor (there is no lift) and after lugging our bags up we found our room. It's a decent sized room but it hasn't been refurbished since the 70s. The room was dirty and stunk like a smoker's haven. My eyes were stinging within minutes. We put up with it for the night we'd prepaid but promptly checked out the very next morning and found somewhere else.\",\n",
       " 'We stayed at the White Sands for five nights from 2-7 August, like a few others, our room key didn\\'t work, we were required to ask for assistance each time we returned to the hotel. Friendly and willing staff seem to be a general comment, I agree on this point. The area surrounding the hotel is a bit dodgy. As you leave the main entrance, you face a high-rise apartment building. For the entire length of our stay, there remained a heaping stack of discarded eviction-type furniture. The neighborhood itself looks a bit \"rough around the edges\" and is in desperate need of a clean sweep and perhaps more community interest in its appearance. Management or property owners seem oblivious to the property\\'s needs. I wouldn\\'t return based on the surroundings,',\n",
       " 'I stayed at the White Sands with my partner a week before Christmas. We were given a room in the corner that faced the pool area. We had a small balcony, a nice fully-equipped kitchenette, and overall a very pleasant stay.',\n",
       " \"Positioned perfectly for everything. Nightlife, restaurants, airport, Waikiki beach - everything! Very well priced considering you get a pool and airconditioning - cheap actually. Beds are a good size and reasonably comfortable, and the bathrooms are spacious enough. The cleaning staff could do a better job though, and in my book that filters up to management. I wouldn't go so far as to say it's dirty (unless you dropped something behind the bedside table and then moved it. Don't do that by the way). Somehing that does make this place more than it is structurally(it's old and theres no elevator) is the staff. Christiann is an absolute gem, that makes a sunny day sunnier. And he night watchman Rogie is a helpful hand and a generous soul that'll look after you. The staff alone will make yo want to come back. I enjoyed my stay here, I hope you do too.\",\n",
       " \"This motel was likely built in 1960 and after 55+ years of use shows serious sign of overuse and lack of maintenance and upgrades. Securing every last dollar out of the fixtures and fittings before the place is fall down or is demolished seems to be the management's strategy. The positives: location--the property is within walking distance to anywhere within Waikiki--(beaches, shopping, restaurants), front desk staff are friendly and watchful of comings and goings--important given some of the characters one sees on the nearby street. Negatives: Rooms are dated and the the furniture is dilapidated (think used Marriott Hotel furniture). The air con is noisy and the cleaning is cursory--a quick tuck of the sheets is about it. It was an OK hotel experience but would I stay again? No. Instead I intend to save up and go upmarket next visit to Hawaii. This hotel has potential and could be a fun & funky 1960s era place, but that is obviously not the current owner's vision (or lack thereof).\",\n",
       " \"We got a room on the third (top) floor. There are no elevators so we had to carry our luggage up the stairs. Luckily we only had a carry on size luggage. The walls are a bit thin because I could hear the couple in the next room arguing at night even when I had the TV on. The AC, when on full power, gets pretty loud but provides a bit of comfort. There is a kitchen, which we didn't really use much. They also provide a shuttle to the Ala Moana mall but because the shuttle goes to other branch hotels it fills up quickly. We waited over half an hour and when it got to the hotel it had only 3 spaces left. We ended up walking which took around half an hour. The majority of the front desk staff was friendly and helpful. There is only wifi in the lobby area.\",\n",
       " \"Overall, this is a lower end hotel. Parking is extremely limited near the hotel, so discounts are provided for a deck several blocks away. While the hotel is only two stories in height, it does not have an elevator, so bags must be carried up exterior stair cases. Our unit's kitchen area was quite dirty and greasy and cabinets were showing signs of rot. While the location was near Waikiki Beach, the street was populated by unsavory characters such that there was some concern about safety. Wi Fi was available in the lobby area only.\",\n",
       " \"The people that worked for the hotel were really friendly. During our stay the electric cards went down and I could only ask the workers to allow me into my room. However, they were always there when we needed them and didn't charge us a nightly fee. The room had a kitchen and was in great walking distance to everything I needed in Wakiki. Would stay here again...\",\n",
       " 'Honolulu in August is not the cheapest place to visit. The White Sands Hotel though offers a reasonable budget alternative.',\n",
       " 'We stayed here in March. It was pretty great! We had the one bedroom with the kitchen on the second floor overlooking the hot tub. It was a little dated, but clean. The beds were comfortable, AC worked great, the kitchen was nice and saved us a lot of money eating out. Had a full sized fridge too. The lanai was cool and very safe and our daughters (2 and 4) loved going out on there and watching the birds and the people below. Lots of tv channels and there was a PS3 as well as a dvd rental kiosk at the front desk.',\n",
       " \"We got a great rate by calling their reservations number and all their staff were very helpful. There is a nice pool and wifi in the main lobby area. It's in a good area, right down dukes lane to the beach. I had a good experience here and for the price and location we will stay here again.\",\n",
       " \"Upon check-in, we were told that their key system had been broken for 2 weeks that we needed an escort every time we go into our room. The system seemed to be fixed after a half way through our stay, but we had to switch keys once after that and the problem with one of our keys at the end. The room was clean and because of the loud A/C, we didn't hear much noise which was nice. The staff there were all nice and helpful. I hoped that they could waive the 'convenient fee' upon check-out because it was such inconvenient experience with the key issues.\",\n",
       " \"First, this hotel looks a little dirty so I wasn't expecting it was nice. I stayed on the 3th floor and it was actually super comfortable and nice room! Really clean and wide inside.\",\n",
       " 'Arrived a day late and got an upgrade to a room, kitchen, bathroom and a gorgeous view of the pool area, which had palm trees, waterfall and a Jacuzzi, a beautiful oasis in the middle of hotel tower blocks. All the staff, especially Christieann, were the friendliest, we have ever encountered, so pleasant and helpful. The hotel is old fashioned but quaint, and we really enjoyed our stay here.',\n",
       " \"Stayed at the White Sands Hotel for a week and found it to be a small, quiet, friendly hotel, which was close to the heart of Wakiki - but in a quiet street just far enough away from the hustle and bustle. It is a older hotel - but it was clean - the room was a good size and the kitchenette was a bonus. Had a lovely pool view room in the nice garden and only steps from the pool and spa and barbecue area. The free WiFi worked well while relaxing by the pool or in the reception area. The staff were friendly and efficient and made us fell welcome as soon as we arrived. There were several nice places to eat just a short distance away - our favourite being Madame Udon - just around the corner, where there is always a line, but don't be put off cos it moves quite fast and the meals are worth the wait. There is also a food panty a 5 minute walk away where you can stock up on essential items. The Royal Hawaiian Centre is also a 5 minute walk away and have a cafeteria type eating place and also some free activities. Waikiki Beach is 2 blocks away and an easy walk from this hotel. I would recommend this hotel to anyone on a budget or not fussed about paying for the luxury of having a view of Waikiki Beach.\",\n",
       " \"The pool area was nice and the location is great in Waikiki. Next to a lot of shopping, nightlife and food - as well as a 10 min walk to Waikiki beach. Great if you don't plan on being in the hotel a lot. The walls are very thin. I could hear the people fighting in the next room as well as anyone in the hallway. I thought it was kinda creepy in some way but lots of normal looking people were staying there. I chose it because it was cheaper though so in this case - I got what I paid for!\",\n",
       " 'I recently spent 4 nights at the White Sands with my 16 and 19 year old sons. My wife was unable to join us on the trip so we opted to stay in a budget hotel.',\n",
       " \"We have been here two days and we still don't have a key to our room. We keep getting told they are fixing it. But so far nothing. We have to go to the desk and ask to be let in every single time we go out.\",\n",
       " 'great employees.christie ann kalvi blake beverly.jennifer they remembered me and greeted me like family.quiet clean and cozy very relaxing to stay here.good location i will be back in december .looking forward to it.',\n",
       " 'I stayed here for 4 nights when i was in hawaii. Location was good close to the main street and shops ect. We were on level 2 so from the balco y had nice views of the pool and palm trees. The bedding though was 2 beds so we slept in different beds which isnt ideal. You could sleep in the one bed but it would be a bit tight. I think they might of been a king size single bed. Also be careful as when you check out there is a daily charge per day on top of ahat u pay for the hotel so that was unexpected. Our room got cleaned every day aswell so that was good. Overall its a good hotel for a fairly cheap price.',\n",
       " \"We selected the White Sands Hotel in Waikiki because it was the cheapest available on the Jetstar Website and our usual budget hotel was closed. What a surprise we received on our 24th trip to Waikiki, Honolulu. The White Sands Hotel turned out to be the most wonderful place ever. We cannot fault anything! We were overlooking the pool, fish pond, barbecue area and jacuzzi from the first floor up. Our kitchen was well provided and maintained daily. Our king size bed was great. The staff were outstanding especially in Reception. The wifi was only available in the lobby but was high speed. We were immediately provided with a room network service for our NoteBook PC which was high speed. There is a free DVD service which we did not use; we were there to holiday! A room safe, daily coffee, local paper, free gas barbecue, huge pool, jacuzzi, ice machine, rear gate entry, no smoking! And a free, exclusive to the Aqua Life Group Hotel chain, shuttle bus to the Ala Moana Shopping Centre which you can use to travel all over Waikiki. We are in our 70's and will be back for sure. Be aware to budget for the compulsory $10 daily amenities fee.\",\n",
       " 'This hotel was fabulous. We were a bit nervous as the reviews weren\\'t great but we loved it. yes it is old and the decor needs brightening BUT we were there to sightsee then sleep!. The hotel met our \"C\" criteria as it was quiet, clean, convenient and cheap. The staff were exceptionally helpful. The hot tub was an absolute godsend after a full day out. We spent quite a bit of time lolling about the pool - always clean. The linen was always clean - albeit a bit threadbare but who cares - the towels were fresh everyday. Some Americans we met who were holidaying there were amazed at the price and the convenience of the hotel. We had a supermarket, Starbucks and other restaurants close by but even better we had literally a 4 min walk to the beach. We were originally given a 3rd floor room but as I was travelling with my 79 year old Mother and no lift we shifted the next day. The staff couldn\\'t have been more helpful and it was all done within 15 mins. We had a kitchenette which saved on breakfasts and we also stored food for meals at the beach or around the pool. Forget the other reviews. Stop complaining about the little things and enjoy the hotel for what it is - close to Waikiki Beach at a 1/3 of the price of what you might pay elsewhere. Maybe the only down side was that a small window above the air-conditioner did not have a curtain but we adapted and slept really well. Beds and pillows very comfortable.',\n",
       " 'We, my husband and I stayed at the White Sands Hotel for 8 days.',\n",
       " \"We stayed at this hotel for four nights. We arrived on an early flight (Noon) and it did take over one hour to get checked in we didn't mind as it did state check-in was 3pm. We had a room on the ground floor overlooking the pool. The room was a great size and the bed was very comfy. Also great we had a fridge and a few kitchen utensils. The pool and spa were great and kept clean, we also used the BBq. We did have two concerns, our bathroom floor was not clean so when we used the bathmat it was pretty grubby and our feet got dirty. Also one evening a gentleman was spitting into the pool and around the pool. I did approach the man and told him to stop but he thought that was funny so I reported it to the receptionist. We did expect that they would close the pool for cleaning but it wasn't and people who weren't aware swam in the pool, pretty gross. I think the staff spoke to the man and he did get out of the pool.\",\n",
       " \"we stayed there for ten days and we felt super comfortable. we got the double room with kitchenette. every envirement was clean and the bed is comfortable too. there is a balcon with a view of the pool and many palmtrees. it's close to the beach and the shopping promenade. the staff is very friendly and helpful.\",\n",
       " 'This is not a five star hotel. However, it was good enough for us. We are not \"resort type\" of vacationers. We spent most of our days out and about exploring the island we only used this place to sleep at night so we don\\'t need anything luxurious. It\\'s close to the beach and many local stores. The bus stop is close by and their are a lot of great restaurants nearby.',\n",
       " 'I\\'m not a travel snob, I don\\'t expect 5 star accommodations from what is clearly a budget hotel. I knew this place wasn\\'t the Hilton. Aside from the fact that they were very unwilling to help out my friend who reserved the hotel and had lost her credit card (A better hotel would have undoubtedly helped out with this), the service was ok. Slow at times, but with the boat load of tourists flooding into the lobby at all hours, I could understand. The view from our balcony was quite crappy, and someone around was always smoking. The microwave did not work at all, and there were a couple small roaches in the bathroom. Oh yeh and the guys hanging outside the dive bar next door were catcalling every time we walked by was pretty obnoxious. I also really could have lived without being charged a \"convenience fee\" for things I didn\\'t even use! I didn\\'t rent any DVD\\'s, use the WiFi, or use their mall shuttle, why the hell should I have to pay for it?',\n",
       " \"When we travel, we prefer to stay in a property that is not a high rise. While we were somewhat reluctant about this property, it was just what we expected and a little more. Yes, it was a little oasis among all the high rises. Lots of vegetation and very tropical surroundings. It was extremely convenient, it was clean, and it was safe! If you want luxuries, don't stay here, but who needs the added expense of luxuries when you are hardly in your room because you are out exploring Oahu? You can walk to restaurants, bars, attractions, and the bus line. The grounds are very nice, there is a small pool and it is very quiet. You would have no idea all the hustle and bustle of Waikiki was just a few blocks away. When we arrived, the door lock was not working and they immediately moved us to another room. Be aware that parking is a premium, but there was parking across the street that was just as convenient. The staff and housekeeping were all very pleasant.\",\n",
       " \"Our stay at white sands was fine, I knew going in that it was a budget hotel and was not expecting anything fancy. It's a pretty basic spot but at least it's comfortable and they give you a mini fridge. It's also decently clean and has a swimming pool and waterfall area. The hot tub is less than stellar, but oh well. As far as location goes, it really is just a short walk from the beach, so the best part of this hotel is the convenience. My biggest qualm with them is their policy of needing the room to be paid for upfront, instead of at the end of the stay. I understand on a budget hotel why they would do this, however it really messed up my cash flow for the trip. I think next time I'd spend a bit extra for the next hotel tier up, but it's a decent pick for someone trying to save on lodging\",\n",
       " 'I booked my stay at this hotel after doing lots of research (most of which was thanks to the reviews on this site which I found very helpful in planning my trip). I was planning on staying in a more modern hotel a couple of blocks away, but booked White Sands when I realised I would save hundreds of dollars on accommodation.',\n",
       " 'No elevator had room on 3rd floor checked in at 3.30pm nothing available except the room in the back 3rd floor . Stairs narrow. Air conditioning made noise all night. Was too tired to complain. Then on check out was charged $10 for incidentals.... What! The inconvenience of having to pack all the bags down from the room.or to park on the city street 3 blocks away. Parking costs $25 dollars extra if they have the availability. Very dated place',\n",
       " \"Again, I spent two wonderful weeks at the White Sands, a comfortable, welcoming, won't- break -your- bank-hotel in Waikiki. In November, 2014 it seemed that nearly every major Waikiki street had major construction and traffic jams. The White Sands in on a short side street with convenient small kitchens in every unit. Units are built around a tropical plant court yard with a small swimming pool and a pond with large koi and a waterfall. Buses are a block away to take you everywhere. There is no need to rent a car unless you like traffic jams as car traffic is heavy. The location is convenient for both luxury and economical spending. The beach is a short walk. It was hard to leave, and I'm already looking forward to my return in November, 2015. It's truly my home away from home, with a warm, welcoming staff.,\",\n",
       " 'This has to be the worst place I ever stayed in my life.',\n",
       " 'We spent 3 nights at White Sands & honestly being the end of our 4 week USA trip it made us not want to leave.. We had a pool view room ( ground floor) it was wonderful to be able to just sit & chill around the pool & watch the world go by. The room was clean & comfortable but yes could do with a little updating. Christie Ann was the most helpful reception clerk ever.. Always happy & always helpful with directions & suggestions for places to eat etc. Thank you Christie Ann you are delightful person & you do a wonderful job, keep up the good work.. The hotel is in a great location walking distance to everything, beach shops , cafe etc. Everybody thinking of staying here should do so its a great place.. Thank you for a wonderful stay.. Lynne & Les Wynne from Australia',\n",
       " \"From the welcome, the early registration with a room ready to the comfortable beds and useful kitchenette and continuing to the Sparkling clean swimming pool with hot tub the hotel is worth far more than 2 stars. OK I know it does not have elevators but you can ask for a ground floor room but why - it is lovely to sit on your balcony overlooking the pool and enjoy snacks and drinks in the evening or breakfast . It is an old hotel but has been well maintained and everything works. Well situated but not on the beachfront this hotel is well worth the money and more They even have paid parking if required. Free Wifi and complimentary shuttle service with other perks like several BBQ's during the week if required. Christianne can make your holiday special and she goes out of her way to assist you\",\n",
       " \"This past winter was my fourth year in a row staying at this property and as I've said before, it's like going back home. Some of my other friends tried this property this year for the first time and they were sold. Their previous hotel closed and thought they would try it as I have always raved about this place. Well, they have already booked a return trip and will be staying here again.\",\n",
       " 'Quaint older Honolulu property with a pool located a couple of blocks from the beach near Waikiki. The room had a kitchenette, the bed was comfortable but the window airconditioner could use an upgrade. Good value for the location.',\n",
       " 'Our stay at White Sands Hotel was an excellent choice. Close to good restaurants shopping and shuttle services to the beach. We were impressed by the service by all staff and especially by Christieann at the front desk. We had a situation where our flight out was way beyond our check out time. We were afforded an area to hold our bags after checkout also with access to the pool the restroom and to other amenities like a newspaper to await our shuttle to the airport.',\n",
       " 'After reading other reviews of this property, I was a little apprehensive but I found it very adequate for our needs. I have not had a mattress or pillow in a hotel or motel that felt so comfortable that I slept thru the night. It was clean and enough for us who spent little time on the hotel property. The hot tub and swimming pool looked good, I did not try them. Very nice for a budget property.',\n",
       " \"This is a good hotel for the money. They only have wifi in the lobby but that isn't a problem. Close enough to walk around Waikiki. The Yardhouse isn't far & they have over 100 beers on tap. Would stay there again.\",\n",
       " \"Stayed here with 4 friends in 2 rooms - extremely convenient location in Waikiki, close to main attractions and pick-up points. The area was a little bit dodgy after 11pm, but otherwise felt completely safe. Hotel staff varied from extremely helpful to somewhat distracted, but the latter didn't really adversely affect my trip. Rooms clean upon arrival, although our stovetop didn't work in the kitchenette. Also, no wifi in rooms, just in the lobby. We got our room serviced once in the 7 nights as per the do not disturb sign we used - but the second time we decided not to use said sign, room service failed to show up even after calling reception twice. However we were leaving the next day so it wasn't a huge deal. Overall, it was what I expected and I would visit again.\",\n",
       " \"Staff are cruel and unprofessional. The night shift staff kicked my friend out multiple times not being registered after I tried to register her. After paying over $100 a night they would countlessly deactivate my card so I couldn't get in the room without my knowledge ...demanded payment and wouldn't even let me say that night..took my money..escorted me upstairs..forced me to pack within 10 min..and then threathened to call the police...and then accused me of stealing a router which I already owned. An absolute disaster...would rather sleep outside on the streets then be 20 feet from this hotel door. Expect no hospitality or kindness. The entire staff is rotten, especially the night shift security guard. WATCH OUT!!!\",\n",
       " 'We had a great stay there! The location is great. It is within walking distance to the beach and the main streets/shops. No need for a rental car.',\n",
       " 'We wanted an affordable price hotel and this was definitely it, the staff was great and helpful. The room was very clean not fancy but it was great for the price. The beds were comfortable. My only issue was parking,the parking is very limited and ended up paying 30.00 a day for parking at a parking garage across the street from hotel.',\n",
       " 'I choose White Sands for the most reasonable price but I was blessed with helpful staff and clean rooms. Christieann was my favorite reservation desk attendant. She went beyond her job to help me with searches and struggles as I was trying to settle in HI for a short term assignment. She was truly a gift and White Sands is blessed to have her. Thank you Christieann for not only great service but a kind smile, encouraging words and sweet spirit. You made my stay wonderful!',\n",
       " 'This hotel was super central and extremely well priced. The room we stayed in had a massive king size bed that was made up daily along with the room being tidied and all facilities refreshed.',\n",
       " 'During my stay I was experienced friendly and courteous staff members but my all time favorite had to have been Rosita from housekeeping. She was always very friendly and accommodating to our needs, fast and efficient in getting her job done. The front desk staff all of them exceptional with service and attitude daily no matter the circumstances or who and walked through those doors. The grounds were always clean and maintained and even though the building/rooms are older and less updated it had everything u needed. my only suggestion would be to have the carpets in the rooms shampooed more often when available to do so.',\n",
       " 'We stayed at White Sands yet again February 7-14 2015...one of the bigger hotels in town is renovating and the White Sands is getting some of the furnishings and updating the rooms a little....our room had a lovely king size bed...and matching end tables and dresser...even though \"used\" it is still in very good condition and i think it is brilliant to be re using perfectly good furniture...the bed was comfy...actually quite comfy...the little mini kitchenette is perfect for little meals in your room...Cristina even found us a rice cooker...also there is a lovely new BBQ for everyone to enjoy. So as usual the staff is awesome...I mean how fantastic is it to have everyone greet you with such a family feeling? Nothing better in our books...',\n",
       " 'We had one night in Honolulu before departing for another island. Then we returned to Honolulu for 3 nights at the end of our trip. We stayed at the White Sands on both occasions. It was the best value that we could find.',\n",
       " 'The hotel was in a wonderful central location minutes walk to the beach and the main strip of waikiki, the staff where all very friendly willing to help with anything possible,',\n",
       " 'First the good. We had room 335, a kitchenette. Well stocked, micro, large dorm size refrig, 2 burner stove, toaster and 5 cup coffee maker. They supply coffee packets each day., There is enough kitchen ware, This room had a king size bed, comfortable mattress and 5 - yes - 5 bed pillows. Pool and hot tub were clean.',\n",
       " \"A very affordable accommodation a couple of blocks from the beaches of Waikiki. An older property that is kept up well. We spent a week and were not disappointed. You are not in the lap of luxury, but didn't spend much time in the room while in Hawaii. Kitchenette is very small, but functional. The location is within walking distance of the beaches and the downtown beat. Parking on the property is extra or public garage parking is half a block away. The courtyard of the property is well kept and gives an oasis appearance in the heart of Waikiki. Small pool and hot tub is included. Movies were included in the $10 daily convenience fee. Staff is friendly and helpful. For an economical way to spend time in Waikiki, you can't do better then this.\",\n",
       " 'We recently spent some time in Honolulu for our anniversary, and we stayed four nights here.',\n",
       " \"We stayed here for a week. All the staff was very friendly especially Christieann. They were able to answer all of our questions with ease. The room was clean. Kitchenette was small but we didn't end up using it while there. The negative I would have to say is that our air conditioning unit was very noisy, but it cooled the room down nicely. The hotel is with in walking distance to many attractions and we always felt safe no matter the hour we were out. We would stay here again and would recommend others to stay here.\",\n",
       " 'Had booked the Ewa Hotel near Diamond Head as we had planned to climb at sunrise the following morning.',\n",
       " \"So I booked a trip for my mother and sister to stay at the white sands while I was at another hotel for the week of our wedding. Placed a 50 dollar deposit for the room and was supposedly going to have that refunded 2 business days after the stay was completed. It is now three months later and despite multiple attempts to get my deposit back they have refused to do so. I called the front desk and the girl said I would have to call my bank to call their front desk for the refund to be issued. My bank said that was not how it works and I shouldn't have to go through this much trouble getting a simple deposit back. So I call white sands again and the girl laughed at me and said the bank needs to call them. The hotel was ok, my mom and sister had problems with the AC breaking down the first day which was replaced the next, we waited a very long time to check in because only one staff member was taking care of guests while two others staff members behind the desk were doing arts and crafts of some sort. I do not recommend this place!!!\",\n",
       " 'This was the 3rd time we stayed here in the last 12 months and still believe it is one of the best values in Waikiki.',\n",
       " 'I needed a place to stay at the last minute and a friend told me to try the this hotel. I called and was surprised at how low the price was especially in waikiki. This place is small but I was on the 3rd floor looking at the pool And nice yard.my bed was comfortable. Very simple but I enjoyed it. It is also close to the beach and shops. I would like to say thankyou to blake who was very helpful and also the housekeeping and frontdesk staff for doing a great job. I will come back !',\n",
       " \"Stayed here for 2 nights before a cruise to the other islands. It is a very convenient location near the international bazaar, Waikiki beach, the zoo, parks, Diamond Head, and a muni golf course. It is really a motel, and, keep this in mind--NO ELEVATORS--not a problem for me, but my elderly mother & aunt could not stay on the 5th floor. Fortunately we had several rooms reserved, 2 of which were on the ground floor, so they stayed there, but it would have been nice to know. NO SMOKING ANYWHERE -you must be 100 feet from the entrance of hotel. I would rate this as a solid C to C+ no frills, just a room with a bed, TV, and small kitchenette. Dated, but at least clean, pool is clean and refreshing, my room had a balcony overlooking an alley & other buildings with balconies, also overlooking the alley. If you are a snob, don't stay here, but if you just want a cheap place to sleep, it is acceptable.\",\n",
       " 'have stayed here several times .just checked out on jan 8 but will be back on june 29.perfect hotel and staff .clean and comfortable. makes me feel like family.cozy and quiet with a great location .friendly and polite staff.try it. you will not be sorry ! sterling lahach in las vegas.',\n",
       " \"Umm, this place was disgusting. I was aware going into it that it wasn't going to be a 5 star hotel but man was this place gross (details later).\",\n",
       " 'From reading various reviews, we thought it would be a decent place to stay but as soon as we entered the room, we thought we were in a time trap.',\n",
       " 'Nice location with good amenities... Free DVD rental and PS3 games. We were one block away from a huge group of shops and restaurants. Room smelled like mildew and bugs in shower. Staff extremely friendly and nice. They were able to hold our bags while we took a day tour.',\n",
       " \"White Sands is a step back in time. It reminds me of an older motel. It could use some updating, but then they would probably charge more for their rooms. We had a top (3rd) floor room overlooking the pool. I don't think the other rooms would have a nicer view. The rooms are clean and neat. The staff is friendly and helpful. Our room was equipped with what we needed, and more. We didn't use the playstation or tv. It is a walk to the beach, which is fine. It's nearer the canal. After walking through the bigger hotels on the beach, I appreciated White Sands because it was quiet and off the beaten track. The only folks there, were the guests.\",\n",
       " 'The staff was nice and the room was clean.',\n",
       " \"I loved the hotel and the staff. The bed was comfy and I had a kitchenette. The pool view is nice and the courtyard is gorgeous. More quiet than some fancier hotels, and amazing location. I'd definitely stay here again. I thought the rooms were clean and very comfortable.\",\n",
       " 'This Hotel is way past due for a remodeling. Patio door lock broken, Bathroom badly needs refurbishing and Wi-Fi only at the front lobby. I suspect that as the economy improves it will be torn down and rebuilt.',\n",
       " \"My Fiancee and l stay here for 10 days and although it was a budget hotel it was clean and comfortable with big beds. We spent most of time out of our room visiting some wonderful places around Oahu and as long as the room is clean and comfortable that's all one really needs. It serve our needs well. The rooms could use a little up grade l must admit but in all honesty nothing major. When we arrived from a 8 and half flight from New Zealand we were met with a very warm Aloha from Christiann and her wonderful smile which really set the tone of our holiday in Wakiki. You have the most expensive Hotel/Motel in the world but l believe the reception staff set the tone on your arrival. Christiann was always helpful and pleasant with a warm Aloha in the morning or evening of which it really made us feel part of there family (Ohana). Blake and Jason were also fantastic when my family approach them with any enquiries we may have had. Such awesome awesome reception staff. The Location was ideal as it was close and within walking distance to most things in Waikiki such as bus services and places to eat. A short walk to the beaches (Couple of blocks walk) and a fantastic freshly made noodles Restaurant which is really cheap and taste absolutely wonderful if your into noodles of course. My family would not hesitate to stay at the Whitesands Nohonani street Waikiki again when we return to Hawaii.There is a shady looking bar next to the Hotel but that is only negative thing l could say other than that Thank you for the great and very pleasant stay and look out for Christiann,Blake and Jason at receotion they won't let you down Cheers Mo.\",\n",
       " \"It is a great budget hotel. It has all the amenities especially if you'll be here for a while, and in a great location. I was extremely delighted with my last stay as I saw them remodeling, and the staff is extremely helpful and accommodating. I was a little disturbed that during my first night stay I had seen a couple pube hairs in the bathroom.. But it does happen, since I've been staying in hotels many times. It's undeniable you'll see one or two here and there..\",\n",
       " 'My daughter was released from Kapiolani hospital after having been inpatient 5 out of the last 6 months, we read reviews on White Sands Hotel, and being a single mother with a sick child from outer island, it seemed a great value, I had every reason to believe that we would have the much needed rest and relaxation we so desperately needed! This was not to be! The wonderful location in the heart of Waikiki was one of the major selling points, I would be able to park in the parking structure and get out of doors for some sun and exercise. While I was still a registered guest in the hotel, my vehicle was towed away, with some of my daughters medical equipment inside. When I went to retrieve one of her items and noticed the vehicle gone I thought it must have been stolen, certainly the property in which I am paying to stay on wouldn\\'t have a registered guest towed, I have still not been given a reason for such an abuse. We were told from the onset that extending would not be a problem if my daughter had extra days \"free\" due to scheduling. The morning of our original scheduled check out, I did inform Christina at the front desk that we would be extending, she said that was not a problem, just come down and sign for the extra nights when I had time. Before it was even humanly possible to put shoes on the both of us and walk down the phone was ringing and I was now told, that I would not be able to extend due to my delay.......We were now forced to pack and leave in a taxi to retrieve our vehicle near the airport ($35) and pay for the tow ($175). I have tried and tried to reach someone within their organization to help me resolve this issue and have gotten exactly nowhere. In all my years of living in Hawaii I had never really known the sting of what it meant to be a \"haole\" to some of the local islanders. Hands down the worst hotel experience of my life and that\\'s saying something considering my insurance normally puts us up at random sub standard hotels near the hospital.',\n",
       " \"Confident that we could have a good stay in a budget hotel in Waikiki, booked a garden view room, not exactly cheap at around $US 170 a night. Immediate impressions were an old hotel, or rather motel that had been kept up to OK levels, and this didn't change. There were noises absolutely EVERYWHERE! Airconditioning systems going bizerk in every unit! Morning garbage trucks in the adjoining street. Bring ear plugs.Thank God, or at least the lack of repair men, that had kept the hot tub outside our lanai (balcony) out of action, apparently for some months now.\",\n",
       " 'This was the first time since 9/11 that we were back in Hawaii....and this is our 5th or 6th visit to the Island in the last 35 years or so....This location of this hotel is excellent especially if you do not want to drive in Oahu.... you can get to any attractions on the island either by trolley or simply by walking...and tour buses would provide you with hotel/airport services if you decide to visit other islands...This might not be a 4-5 star hotel but the workers are very friendly and helpful, and the rooms are comfortable and clean, and all the appliances and facilities do work properly. It takes you 10 minutes to walk to the Waikiki beach and see the unforgettable sunset every night and then have a leisurely dinner in any of the numerous restaurants on the strips.',\n",
       " \"My husband and I were only going to spend a night in Honolulu before taking our plane to Hilo, so we decided to book a cheap hotel. White Sands is a bit outdated, but it was very comfortable and the staff was really friendly. It's about 4 blocks away from the beach and just 1 block away from an avenue where you can find many buses or taxis. You also have a fridge and microwave oven in the room in case you feel like cooking because they do not have a restaurant. You have many restaurants and stores close by. You have free wi-fi and if you like video games, there is a PS3 console in each room.\",\n",
       " 'This property is NOT a Marriott but Chrisitana and crew were very friendly and helpful. The parking lot is a little tight and is $25 per night if you are lucky enough to get a space. As others have stated, it is dated but they are refurbishing the rooms. I had a small room and the bed was comfortable, air conditioner worked fine and the shower was great. It was clean but no view.',\n",
       " 'This is actually a really good place to stay in Waikiki if the skies are not your budget. Sure the rooms look a bit dated but the beds were still comfortable to sleep in, and the aircon was nice & cold. And to top it all, the showers were powerful, & heated. I rested really well here! Even when I had jet-lag!',\n",
       " \"This hotel is low rise, boutique a tad out dated and in need of a little refurb, but this is definitely overshadowed by the great staff who made you feel like one if the family, nothing was too much trouble, shuttle bookings, taxis etc ( all bar one, the desk clerk on duty the night our room was burgled, he did not lift his head at anytime to acknowledge us when we came in so no wonder the thief was able to enter unchallenged) but this unfortunate incident aside the white sands has loads to offer, location, price, intimacy. Don't book if you want five star accommodation but definitely worth it for the budget conscious\",\n",
       " 'One of the many Aqua hotels in Hawaii and maybe one of the first few as it is already dated. However, the room was comfortable enough especially since it was on the ground floor with balcony access to the pool and the Jacuzzi---a request granted. It had very minimal toiletries and linens but was equipped with a small kitchen complete with accessories and equipment. The shower room was quite small and bigger built Caucasians may experience some discomfort.',\n",
       " \"This place is an older hotel, which is fine, we weren't expecting fancy for the price. The location is good, but for us, that's where the positives stop.\",\n",
       " \"We just returned from a week's stay at the White Sands, there are way more positive things to say than negative. Among the positive is it's location and friendly service as the front desk staff made us welcome and went out of their way to answer questions and let us know of upcoming events in the area during our stay.\",\n",
       " 'simple but cozy, especially I loved our terrace covered behind the palm trees, friendly staff, nice swimming pool and good location close to pubs with live music and Waikiki beach, I recommend especially that price is not crazy...and apparently they changing all furniture soon so its gonna be even nicer:)',\n",
       " \"My sister and I were visiting Hawaii for the first time and didn't go all the way in $$$ so we booked at this place and what a pleasure it was. Clean, secure, friendly staff, centrally located, stocked with kitchen stuff to do your own cooking, stove, fridge, microwave and even a patio! I can't understand the negative comments I see here because non of those nasty things are true. Yes, it is not one of those fancy place but for the price that you pay here the service and quality goes above and beyond. We will for go back to Waikiki and for sure will be booking aging at this hotel. There's no reason to waste money when this place the only thing that is missing is room service and a valet. Other than that, all we needed it, we got it! Thank you so much to the whole staff at the White Sands Hotel!!!\",\n",
       " \"My fiance and I did our research to find an affordable hotel for our first visit to Hawaii. We chose the White Sands because of its central location, room rates and lower fees. The service at check in was great. He even gave us detailed instructions on how to find the parking garage. It's obviously an older hotel and it certainly has some maintenance issues but we were satisfied with the room. It looked like management was still in the process of updating the rooms (which did already include a mini fridge, HDTV and a PS3 for on demand movies, and a full size closet in the bathroom). Housekeeping hasn't been getting everything clean however, as there was a really dirty vent in the bathroom. As far as the hotel's neighbors go, yes, there are some apartments and bars nearby which do attract a certain crowd but it didn't bother us since we were out exploring the island all day. Therefore I would only recommend the hotel for adults and young couples without children. Breakfast tip: Try the Seaside Ave. Grill just across the street for great breakfast under $5!\",\n",
       " 'I needed a hotel for only one night, so my wife and i ended up at the White Sands. What a huge mistake. Check in took nearly an hour. The room smelled like an ashtray, but is supposed to be smoke free. The hallways smelled of passionfruit vomit. The pool was closed due to \"water clarity.\" There was no parking available, and I had to pay to park, even though the hotel advertised free on-site parking. There were people smoking on their balconies, and it wasn\\'t cigarettes. This isn\\'t a desirable place. There are many more desirable hotels nearby for only 10 dollars more per night.',\n",
       " \"After staying at several other hotels on Waikiki that are moderate cost (nothing worth staying at is really low cost here) we found this very nice spot and plan to return. It needs some upgrades, which it is getting, and the Wi-Fi doesn't work in the rooms, but it's reasonably clean, quiet, and secure, and has great, friendly people working there. Very convenient to most of Waikiki features. Rooms are large with full kitchens so you can eat inexpensively if you choose. The bed was comfortable and the area quiet. We had no trouble with homeless as another reviewer did, and felt very safe and welcomed. A nice oasis priced very well and worth a return visit.\",\n",
       " 'After a 9 hour flight we made it to White Sands Hotel. The location was horrible. There were a lot of undesirables walking around. There was no parking available we had to park 3 blocks away the parking lot they had was very small. The receptionist even upgraded our room. But it was so bad that I called expedia and an extra 200 dollars to be transferred to another hotel. Not to mention that we were there 15 mins. And they charged us for the night. We are all about budget hotels on Waikiki so that we can spend our money on activities. But this hotel really needs to be tore down.',\n",
       " \"I had booked seven days at this hotel, but after spending less than 12 hours I had to check out and leave because the place is disgusting. I booked it because it was cheap and had good reviews. I didn't mind that it is old, but there were cockroaches in my room among other bugs. The building smells and there was mold. The bathroom is extremely small and full with bugs. The room had kitchenette, but I was disgusted to use it due to the centipedes ll over the floor.both the bathroom and kitchen floor had The front desk people were nice. They let me leave my bags at the front desk for few hours while I was looking for a new place to stay. It was disappointing first day in waikiki because I am a solo female traveler and I didn't feel safe at the hotel and the front desk people didn't seem to care that I was concerned about the cockroaches. The air condition is extremely loud. The wifi is free only around the pool area and you have to pay to use the safe $2 per day. I was able to get a room for the same price at the Aqua Waikiki Wave hotel across the street which had great location, free wifi,a gym, free safe!\",\n",
       " 'It took close inspection to conclude that the worn carpets of the White Sands Hotel were not some style fabrication like pre-washed jeans, a contrived wear and tear for the chic and aloof. My last stay on Waikikis dystopia was at the Trump Hotel, but I capitulated to a friend whose ex-wife had invested decades lowering his expectations in the name of frugality. Not that Im too good to stay off the strip where the Honolulu homeless dwell, there is ample room in my life for all sorts of two-star things. But it has been too long since I so thoroughly internalized the aphorism that less is more. And by that formula, the White Sands is sheer abundance.',\n",
       " 'The staff very friendly and the hotel well located. The room is massive :) I suggest go the rooms around the pool so you can use the Wifi without leave your room.',\n",
       " 'Very kind people and great service-- everyone was so nice and accommodating!! The room we had was very nice, it came with a kitchenette and everything we needed and the beds were so comfy. But what makes the hotel special is definitely the people working there. And the location is great-- right around the corner from some great shopping and restaurants and only a few streets away from the most beautiful beach in Waikiki (in my opinion).',\n",
       " 'What makes White Sands Hotel so special? The staff! So friendly, helpful and always doing anything they can to make your stay pleasant! Christeann - that smile of yours makes everyone around you want to smile!',\n",
       " \"Best budget hotel I've stayed at.\",\n",
       " 'I love, love, love the white sands hotel! Christi Ann, meets and greets everyone with a big smile, big Aloha and big hugs! She creates an atmosphere that feels like you just arrived home! She is very accommodating to the guests, shares her knowledge of the Island and can direct you to find all of your interests to visit the sites of Waikiki! The hotel is set apart from the big hotels which gives you some room from the many tourists, nice walk to the beach, local restaurants and shopping. You can also relax in the quaint pool and yard, you can barbeque in the evenings, have breakfast in the morning by the poolside too! The hotel is charming and cozy! I would definitely stay again if I should visit Hawaii! Aloha from NYC!!!',\n",
       " \"My family and I vacationed in Honolulu this April, we loved this hotel. The service was great the front desk clerk was friendly and courteous. The pool was clean and the pond was free of all debris. The laundry room was safe and well stocked. Don't let the ratings fool you.\",\n",
       " 'older hotel, but very clean -appeared to have been recently painted-very roomy.',\n",
       " \"I visited Honolulu for a conference and have stayed in 3 different hotels, Marriot, Aqua Pearl and Here. It's absolutely much cheaper to stay in White Sands than those first two hotels, but the experience was much better than expected and was completely satisfying!!\",\n",
       " 'Whitesands. Affordable, and Christina is full of Aloha! The rooms were clean and beds were comfy. The parking was secured & location very convenient. I will definitely be back with my family. We love rooms with kitchenettes...:)',\n",
       " \"Very good hotel the only thing was the wifi in the rooms wasn't good and the tv not being center to the bed it was off to the side which kinda suck but other then that staff was awesome location was awesome it was super close to everything\",\n",
       " 'I have been visiting Waikiki for over a decade. White Sands Hotel is a jewel that is the best in this area. Christina at the front desk is the best customer service and Aloha spirit you can ever meet throughout the islands. Every single day, she and the staff makes you feel like you are the most special guest in the world.',\n",
       " 'My Husband & I recently celebrated our 25th Wedding Anniversary in Hawaii which included a 5 night stay at The White Sands May 11-15 and back for overnight on May 22. We have nothing but good things to say ! Christianne ,Jason and Christine went above & beyond in all aspects of our stay ! From a free upgrade , a late checkout , storing our luggage on final day & helping us re-arrange our shuttle to Airport... They were awesome ! The kitchenette helps to keep the costs down room was clean ,the courtyard is immaculate the groundskeepers take extreme pride in their job as well and it shows ! We would definitely not hesitate to stay here again ! if you are looking for a quiet , clean and friendly Hotel within walking distance to the beach this place is a great choice !!!!',\n",
       " 'My boyfriend & I stayed at this hotel May 19-23 we were very satisfied with our room. The small kitchen is so helpful, eating out on the island can get expensive it\\'s nice to have the option to be able to prepare your own food. There is only a shower, not the best water pressure but water will get hot. Only other thing in room, bed is bouncy, makes for tangled blankets!! The staff is great... \"Sunshine\" is the best! She\\'s very friendly and willing to help anyone. All of the staff was polite. Would recommend this place to anyone. The pool is nice to lounge by, I\\'m very happy we stayed here. Will go back next time I\\'m in Honolulu.',\n",
       " 'There is something very special that is offered at White Sands. My husband and I visited hawaii April 2 - 23 /14 and stayed here. We were celebrating our 30th Wedding anniversary plus we are ballroom dancers and we attended 3 lovely Galas at the Palladium Ballroom at the Ala Wai Golf and Counrty Club. During our stay we quickly recognized that this hotel was blessed with staff that are embodied with the true heartfelt hawaiian energies of the past. This is what I speak of as Madame Pele lives here, its her energy of the all inclusive Ohana/family, as her spirit is still very much alive on the islands. It is a comforting feeling like having an ongoing hug. Its in our room, the lobby or simply anywhere on property. Step off the property and it changes. It is with our sincere thanks to the staff that solidly anchore this heartfelt Ohana spirit, no doubt it is why all the tropical vegetation in the courtyard thrives so abundantly. To the manager Ms. Lendy Ma thank you for your time and wonderful chat we had in the lobby you truely are kindred spirit. To Blake, Jason, David, Christine, Christieanne, Melvin and all the housekeeping Ladies, you made our stay unforgetable. We loved our 3rd floor pool view room,the upgrade was so appreciated. Till we meet again White Sands....',\n",
       " 'Mother (70) and I (48) landed in Hawaii on 5-3-14 left 5-15-14 three islands. This was the most excellent hotel including a Condo. Service & Security OUTSTANDING! Knowledge of area accurate. Sweet people. Will go there again when I can ever make back to islands. Which better be soon, lol. You will enjoy your stay. Oh, must take the Trolly, what a great ride educational and cheap transportation to beach. Which you can walk to from hotel, easy stroll.',\n",
       " \"I just stayed here for 6 nights. Overall this place is very clean. The room I had was newly pained & the carpet looked new. Did not see a single bug in 6 nights. Regardless of your reason for visiting the Honolulu this hotel is a great budget choice (would be a solid 2 star on the mainland). The hotel is close to restaurants and more shopping then a human needs. 2 Blocks from the beach. The hotel is relatively quite Of course my air conditioner was load so it blocked out most street noise. The rooms are very good size, I found the beds to be OK, but a little hard, complete with small frig & microwave & coffee pot (be prepared to pay $1.00 for each coffee package after the 1st night!!!) in the frig were cups, plates utensils and glasses all in 2's (yes in the frig) each room was labeled by a # , IE 101 & next to it 101A, I assume when you rent a suite U open the door in between and U get more. However in the side which I had (A) although the room was large no desk or table to sit at, did have what may have been a queen bed and a separate single bed so the room would sleep 3 comfortably, & also had a low dresser.& a bathroom that gives you all the space you need to lay out your toiletries and with an old fashion step in shower (if you're 6ft or taller the shower head is at about 5' so you need to bend over!)\",\n",
       " 'My wife and I have been staying in various hotels around the Waikiki beachfront area for 2 months.',\n",
       " \"My fiance and I checked into this hotel on Friday May 2nd and I must admit from the look of it outside, you'd be weary but give it a chance. we checked in and there were a lot of younger people there hanging around the pool area. Totally fine. We got our key card for the room and it was horrible. First off let me say that there were no pillows on the bed and the sheets were pulled back. The walls were terribly dirty and not to mention the bathroom which was filthy. Unless you are homeless this hotel is more like a motel or a hostel and i wouldn't recommend it to anyone. I am no five star girl but there is no way that I could comfortably lay my head down in this hotel. It did not feel safe and a I felt like i would get a disease just by staying in the room. There was no way possible i could have stayed there. After staying out a couple hours, we finally checked in to the Aqua Bamboo down the street just steps away from Waikiki beach. This hotel was very accommodating and much much cleaner and appealing than the White Sands Hotel. Unless you don't care about cleanliness and just looking for a place to sleep fine but I wouldn't send my dog there. We asked if they had any better rooms and we were told they were all the same. STAY AWAY. Pay the extra money and go elsewhere for peace of mind and comfort.\",\n",
       " 'Thank you so much! I had a great time! Everything was perfect! The staffs were all nice and really care about you. Location,cheap,Very friendly staff and quiet. The restaurants are near by',\n",
       " 'We have found this resort comfortable, clean and staff members like Christieann to be extremely helpful. She even helped me to find a ukulele!',\n",
       " \"what you see if what you get! don't expect 5 star amenities for the price. the staff is very friendly and helpful in particular Sunshine, she is such a lovely lady very helpful and super nice.. beautiful garden and location is great. less than a block away from the strip the international market and walking distance to the beach. i love the fact that they have parking space available as you'll find a hard time finding parking in waikiki. its my 5th time is hawaii and this is one of my fave places, thanks to Miss Sunshine! its a very welcoming hotel, a lil old school but perfect for the price!\"]"
      ]
     },
     "execution_count": 73,
     "metadata": {},
     "output_type": "execute_result"
    }
   ],
   "source": [
    "[i[\"reviewText\"] for i in list(data.ix[37,\"reviewinfo\"])]"
   ]
  },
  {
   "cell_type": "code",
   "execution_count": 61,
   "metadata": {
    "collapsed": false
   },
   "outputs": [
    {
     "data": {
      "text/plain": [
       "'Room Service \\nChildren Activities (Kid / Family Friendly) \\nAirport Transportation \\nDry Cleaning \\nMeeting Rooms \\nBusiness Center with Internet Access \\nLaundry Service \\nConcierge \\nMultilingual Staff \\nConference Facilities \\nBanquet Room \\nSelf-Serve Laundry \\nBabysitting'"
      ]
     },
     "execution_count": 61,
     "metadata": {},
     "output_type": "execute_result"
    }
   ],
   "source": [
    "data.ix[1,\"services\"]"
   ]
  },
  {
   "cell_type": "code",
   "execution_count": 12,
   "metadata": {
    "collapsed": false
   },
   "outputs": [
    {
     "data": {
      "text/html": [
       "<div>\n",
       "<table border=\"1\" class=\"dataframe\">\n",
       "  <thead>\n",
       "    <tr style=\"text-align: right;\">\n",
       "      <th></th>\n",
       "      <th>hotelId</th>\n",
       "      <th>hotelName</th>\n",
       "      <th>reviewText</th>\n",
       "    </tr>\n",
       "  </thead>\n",
       "  <tbody>\n",
       "    <tr>\n",
       "      <th>0</th>\n",
       "      <td>property_595533</td>\n",
       "      <td>Inn at Schofield Barracks</td>\n",
       "      <td>Please read this whole review carefully! The s...</td>\n",
       "    </tr>\n",
       "    <tr>\n",
       "      <th>1</th>\n",
       "      <td>property_1484551</td>\n",
       "      <td>Trump International Hotel Waikiki</td>\n",
       "      <td>My husband and I both visited Hawaii for the f...</td>\n",
       "    </tr>\n",
       "    <tr>\n",
       "      <th>2</th>\n",
       "      <td>property_120756</td>\n",
       "      <td>Breakers Hotel</td>\n",
       "      <td>We love this place! It is so groovy and relaxe...</td>\n",
       "    </tr>\n",
       "    <tr>\n",
       "      <th>3</th>\n",
       "      <td>property_87017</td>\n",
       "      <td>Airport Honolulu Hotel</td>\n",
       "      <td>This intrepid wanderer had been travelling for...</td>\n",
       "    </tr>\n",
       "    <tr>\n",
       "      <th>4</th>\n",
       "      <td>property_86969</td>\n",
       "      <td>Waikiki Wave</td>\n",
       "      <td>The Waikiki Wave was nice. It was conveniently...</td>\n",
       "    </tr>\n",
       "  </tbody>\n",
       "</table>\n",
       "</div>"
      ],
      "text/plain": [
       "            hotelId                          hotelName  \\\n",
       "0   property_595533          Inn at Schofield Barracks   \n",
       "1  property_1484551  Trump International Hotel Waikiki   \n",
       "2   property_120756                     Breakers Hotel   \n",
       "3    property_87017             Airport Honolulu Hotel   \n",
       "4    property_86969                       Waikiki Wave   \n",
       "\n",
       "                                          reviewText  \n",
       "0  Please read this whole review carefully! The s...  \n",
       "1  My husband and I both visited Hawaii for the f...  \n",
       "2  We love this place! It is so groovy and relaxe...  \n",
       "3  This intrepid wanderer had been travelling for...  \n",
       "4  The Waikiki Wave was nice. It was conveniently...  "
      ]
     },
     "execution_count": 12,
     "metadata": {},
     "output_type": "execute_result"
    }
   ],
   "source": [
    "reviewText.head()"
   ]
  },
  {
   "cell_type": "code",
   "execution_count": 13,
   "metadata": {
    "collapsed": true
   },
   "outputs": [],
   "source": [
    "import nltk\n",
    "import re\n",
    "#from pymongo import MongoClient\n",
    "#from textblob import TextBlob\n",
    "from sklearn.feature_extraction.text import CountVectorizer\n",
    "import lda\n",
    "import numpy as np\n",
    "import json \n",
    "import operator\n"
   ]
  },
  {
   "cell_type": "code",
   "execution_count": 14,
   "metadata": {
    "collapsed": true
   },
   "outputs": [],
   "source": [
    "from nltk.corpus import stopwords\n",
    "stop_words_list = stopwords.words('english')\n",
    "from nltk.stem.snowball import SnowballStemmer\n",
    "stemmer = SnowballStemmer(\"english\")"
   ]
  },
  {
   "cell_type": "code",
   "execution_count": 15,
   "metadata": {
    "collapsed": true
   },
   "outputs": [],
   "source": [
    "import gensim\n",
    "from collections import defaultdict\n",
    "\n",
    "from gensim import corpora, models, similarities\n",
    "\n",
    "from __future__ import division"
   ]
  },
  {
   "cell_type": "code",
   "execution_count": 16,
   "metadata": {
    "collapsed": true
   },
   "outputs": [],
   "source": [
    "def token_stem(text):\n",
    "   \n",
    "    \n",
    "    tokens = [word for sent in nltk.sent_tokenize(text) for word in nltk.word_tokenize(sent)]\n",
    "    word_tokens = []\n",
    "    for token in tokens:\n",
    "        if re.search('[a-zA-Z]', token):\n",
    "            word_tokens.append(token)\n",
    "    stems = [stemmer.stem(t) for t in word_tokens]\n",
    "    return stems\n",
    "\n"
   ]
  },
  {
   "cell_type": "code",
   "execution_count": 17,
   "metadata": {
    "collapsed": true
   },
   "outputs": [],
   "source": [
    "def tokenize(text):\n",
    "    \n",
    "    tokens = [word for sent in nltk.sent_tokenize(text) for word in nltk.word_tokenize(sent)]\n",
    "    word_tokens = []\n",
    "    for token in tokens:\n",
    "        if re.search('[a-zA-Z]', token):\n",
    "            word_tokens.append(token)\n",
    "    return word_tokens"
   ]
  },
  {
   "cell_type": "code",
   "execution_count": 19,
   "metadata": {
    "collapsed": false
   },
   "outputs": [],
   "source": [
    "totalvocab_stemmed = []\n",
    "totalvocab_tokenized = []\n",
    "for i in reviewText[\"reviewText\"]:\n",
    "    allwords_stemmed = token_stem(i) \n",
    "    totalvocab_stemmed.extend(allwords_stemmed) \n",
    "    \n",
    "    allwords_tokenized = tokenize(i)\n",
    "    totalvocab_tokenized.extend(allwords_tokenized)"
   ]
  },
  {
   "cell_type": "code",
   "execution_count": 20,
   "metadata": {
    "collapsed": true
   },
   "outputs": [],
   "source": [
    "vocab_frame = pd.DataFrame({'words': totalvocab_tokenized}, index = totalvocab_stemmed)"
   ]
  },
  {
   "cell_type": "code",
   "execution_count": 21,
   "metadata": {
    "collapsed": true
   },
   "outputs": [],
   "source": [
    "from sklearn.feature_extraction.text import TfidfVectorizer,CountVectorizer,TfidfTransformer\n",
    "from sklearn.cluster import KMeans\n",
    "from sklearn.metrics.pairwise import cosine_similarity"
   ]
  },
  {
   "cell_type": "code",
   "execution_count": 22,
   "metadata": {
    "collapsed": false
   },
   "outputs": [
    {
     "name": "stdout",
     "output_type": "stream",
     "text": [
      "CPU times: user 32min 41s, sys: 31.6 s, total: 33min 13s\n",
      "Wall time: 35min 8s\n"
     ]
    }
   ],
   "source": [
    "\n",
    "tfidf_vectorizer = TfidfVectorizer(max_df=0.5,\n",
    "                                 min_df=0.05, stop_words=stop_words_list,\n",
    "                                 use_idf=True, tokenizer=token_stem)\n",
    "\n",
    "%time tfidf_matrix = tfidf_vectorizer.fit_transform(reviewText[\"reviewText\"]) "
   ]
  },
  {
   "cell_type": "code",
   "execution_count": 23,
   "metadata": {
    "collapsed": false
   },
   "outputs": [],
   "source": [
    "from sklearn.cluster import KMeans\n",
    "\n",
    "#num_clusters = 10\n",
    "inertia = []\n",
    "for i in range(1,30):\n",
    "    km = KMeans(n_clusters=i)\n",
    "    km.fit(tfidf_matrix)\n",
    "    inertia.append(km.inertia_)"
   ]
  },
  {
   "cell_type": "code",
   "execution_count": 26,
   "metadata": {
    "collapsed": false
   },
   "outputs": [
    {
     "data": {
      "text/plain": [
       "KMeans(copy_x=True, init='k-means++', max_iter=300, n_clusters=11, n_init=10,\n",
       "    n_jobs=1, precompute_distances='auto', random_state=None, tol=0.0001,\n",
       "    verbose=0)"
      ]
     },
     "execution_count": 26,
     "metadata": {},
     "output_type": "execute_result"
    }
   ],
   "source": [
    "km = KMeans(n_clusters=11)\n",
    "km.fit(tfidf_matrix)\n",
    "#inertia.append(km.inertia_)"
   ]
  },
  {
   "cell_type": "code",
   "execution_count": 27,
   "metadata": {
    "collapsed": true
   },
   "outputs": [],
   "source": [
    "clusters = km.labels_.tolist()"
   ]
  },
  {
   "cell_type": "code",
   "execution_count": 31,
   "metadata": {
    "collapsed": false
   },
   "outputs": [],
   "source": [
    "final_clusters = { 'ID':reviewText[\"hotelId\"] , 'cluster': clusters, 'hotelName' : reviewText[\"hotelName\"]}\n",
    "\n",
    "frame = pd.DataFrame(final_clusters, index = [clusters] , columns = [ 'ID', 'hotelName','cluster'])"
   ]
  },
  {
   "cell_type": "code",
   "execution_count": 32,
   "metadata": {
    "collapsed": true
   },
   "outputs": [],
   "source": [
    "frame.reset_index(inplace=True)"
   ]
  },
  {
   "cell_type": "code",
   "execution_count": null,
   "metadata": {
    "collapsed": true
   },
   "outputs": [],
   "source": []
  }
 ],
 "metadata": {
  "anaconda-cloud": {},
  "kernelspec": {
   "display_name": "Python 3",
   "language": "python",
   "name": "python3"
  },
  "language_info": {
   "codemirror_mode": {
    "name": "ipython",
    "version": 3
   },
   "file_extension": ".py",
   "mimetype": "text/x-python",
   "name": "python",
   "nbconvert_exporter": "python",
   "pygments_lexer": "ipython3",
   "version": "3.6.0"
  }
 },
 "nbformat": 4,
 "nbformat_minor": 0
}
